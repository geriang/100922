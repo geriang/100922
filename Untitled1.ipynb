{
  "nbformat": 4,
  "nbformat_minor": 0,
  "metadata": {
    "colab": {
      "provenance": [],
      "authorship_tag": "ABX9TyOQGS6MCPtiYe2eV1kFRI9/",
      "include_colab_link": true
    },
    "kernelspec": {
      "name": "python3",
      "display_name": "Python 3"
    },
    "language_info": {
      "name": "python"
    }
  },
  "cells": [
    {
      "cell_type": "markdown",
      "metadata": {
        "id": "view-in-github",
        "colab_type": "text"
      },
      "source": [
        "<a href=\"https://colab.research.google.com/github/geriang/101022/blob/main/Untitled1.ipynb\" target=\"_parent\"><img src=\"https://colab.research.google.com/assets/colab-badge.svg\" alt=\"Open In Colab\"/></a>"
      ]
    },
    {
      "cell_type": "code",
      "execution_count": 34,
      "metadata": {
        "colab": {
          "base_uri": "https://localhost:8080/",
          "height": 249
        },
        "id": "Ib17TNrzvY-T",
        "outputId": "5f5ba252-fb7f-4b3e-d1a3-68a5b21e4e50"
      },
      "outputs": [
        {
          "name": "stdout",
          "output_type": "stream",
          "text": [
            "Please enter a number:-10\n"
          ]
        },
        {
          "output_type": "error",
          "ename": "KeyboardInterrupt",
          "evalue": "ignored",
          "traceback": [
            "\u001b[0;31m---------------------------------------------------------------------------\u001b[0m",
            "\u001b[0;31mKeyboardInterrupt\u001b[0m                         Traceback (most recent call last)",
            "\u001b[0;32m<ipython-input-34-f0db58077604>\u001b[0m in \u001b[0;36m<module>\u001b[0;34m\u001b[0m\n\u001b[1;32m      1\u001b[0m \u001b[0mx\u001b[0m \u001b[0;34m=\u001b[0m \u001b[0mint\u001b[0m\u001b[0;34m(\u001b[0m\u001b[0minput\u001b[0m\u001b[0;34m(\u001b[0m\u001b[0;34m'Please enter a number:'\u001b[0m\u001b[0;34m)\u001b[0m\u001b[0;34m)\u001b[0m\u001b[0;34m\u001b[0m\u001b[0;34m\u001b[0m\u001b[0m\n\u001b[1;32m      2\u001b[0m \u001b[0;32mwhile\u001b[0m \u001b[0;32mTrue\u001b[0m\u001b[0;34m:\u001b[0m\u001b[0;34m\u001b[0m\u001b[0;34m\u001b[0m\u001b[0m\n\u001b[0;32m----> 3\u001b[0;31m   \u001b[0;32mif\u001b[0m \u001b[0mx\u001b[0m \u001b[0;34m>\u001b[0m \u001b[0;36m0\u001b[0m\u001b[0;34m:\u001b[0m\u001b[0;34m\u001b[0m\u001b[0;34m\u001b[0m\u001b[0m\n\u001b[0m\u001b[1;32m      4\u001b[0m     \u001b[0;32mbreak\u001b[0m\u001b[0;34m\u001b[0m\u001b[0;34m\u001b[0m\u001b[0m\n\u001b[1;32m      5\u001b[0m     \u001b[0mx\u001b[0m \u001b[0;34m=\u001b[0m \u001b[0mint\u001b[0m\u001b[0;34m(\u001b[0m\u001b[0minput\u001b[0m\u001b[0;34m(\u001b[0m\u001b[0;34m'Please enter a number:'\u001b[0m\u001b[0;34m)\u001b[0m\u001b[0;34m)\u001b[0m\u001b[0;34m\u001b[0m\u001b[0;34m\u001b[0m\u001b[0m\n",
            "\u001b[0;31mKeyboardInterrupt\u001b[0m: "
          ]
        }
      ],
      "source": [
        "x = int(input('Please enter a number:'))\n",
        "while True:\n",
        "  if x > 0:\n",
        "    break\n",
        "    x = int(input('Please enter a number:'))"
      ]
    },
    {
      "cell_type": "code",
      "source": [
        "x=0\n",
        "y=0\n",
        "while x<=0 or y<=0:\n",
        "  x= int(input(\"Enter the first number:\"))\n",
        "  if x<0:\n",
        "    continue\n",
        "    y = int(input(\"Enter the second number:\"))\n",
        "  print(\"You have entered two positive numbers\")\n",
        "  "
      ],
      "metadata": {
        "colab": {
          "base_uri": "https://localhost:8080/"
        },
        "id": "aA17xnzKyI5Y",
        "outputId": "5f3254b6-f5e1-44b3-fd75-7d9902d6ca88"
      },
      "execution_count": null,
      "outputs": [
        {
          "output_type": "stream",
          "name": "stdout",
          "text": [
            "Enter the first number:1\n",
            "You have entered two positive numbers\n"
          ]
        }
      ]
    },
    {
      "cell_type": "code",
      "source": [
        "i = 0\n",
        "while i <3:\n",
        "  j=0\n",
        "  while j<3:\n",
        "    print (\"count\", i,j)\n",
        "    j = j+1\n",
        "  i = i+1\n",
        "  "
      ],
      "metadata": {
        "colab": {
          "base_uri": "https://localhost:8080/"
        },
        "id": "gdb0f8V6031W",
        "outputId": "2ea91106-43b6-47b3-858c-de7b21a105df"
      },
      "execution_count": 5,
      "outputs": [
        {
          "output_type": "stream",
          "name": "stdout",
          "text": [
            "count 0 0\n",
            "count 0 1\n",
            "count 0 2\n",
            "count 1 0\n",
            "count 1 1\n",
            "count 1 2\n",
            "count 2 0\n",
            "count 2 1\n",
            "count 2 2\n"
          ]
        }
      ]
    },
    {
      "cell_type": "code",
      "source": [
        "\n",
        "for x in range(0,3):\n",
        " for y in range(0,3):\n",
        "\n",
        "  print (\"count\",x,y)\n",
        "\n",
        "\n",
        " \n",
        "\n",
        "\n"
      ],
      "metadata": {
        "colab": {
          "base_uri": "https://localhost:8080/"
        },
        "id": "pXRfJnqh1I_f",
        "outputId": "b6615d69-dee2-47b1-da1f-d4c023cfe403"
      },
      "execution_count": 27,
      "outputs": [
        {
          "output_type": "stream",
          "name": "stdout",
          "text": [
            "count 0 0\n",
            "count 0 1\n",
            "count 0 2\n",
            "count 1 0\n",
            "count 1 1\n",
            "count 1 2\n",
            "count 2 0\n",
            "count 2 1\n",
            "count 2 2\n"
          ]
        }
      ]
    },
    {
      "cell_type": "code",
      "source": [
        "print(\"Dear Nancy,\\n I can't believe that it's been more than six months since we spoke. You remember the song? Should auld acquaintance be forgot, and never brought to mind? Should auld acquaintance be forgot, and auld lang syne? 'Merry X'mas and a Happy New Year!'\")"
      ],
      "metadata": {
        "id": "78vUiSqr9hBv"
      },
      "execution_count": null,
      "outputs": []
    },
    {
      "cell_type": "code",
      "source": [
        "msg=\"\"\"\n",
        "Dear Nancy,\\n I can't believe that it's been more than six months since we spoke. You remember the song? Should auld acquaintance be forgot, and never brought to mind? Should auld acquaintance be forgot, and auld lang syne? 'Merry X'mas and a Happy New Year!"
      ],
      "metadata": {
        "id": "BUdbNDQV_Oh5"
      },
      "execution_count": null,
      "outputs": []
    },
    {
      "cell_type": "code",
      "source": [],
      "metadata": {
        "id": "cTlzbaV3_UCU"
      },
      "execution_count": null,
      "outputs": []
    },
    {
      "cell_type": "code",
      "source": [
        "msg = \n",
        "\"Dear Nancy,\\n\n",
        " I can't believe that it's been more than six months since we spoke. \n",
        " You remember the song? Should auld acquaintance be forgot, and never brought to mind? Should auld acquaintance be forgot, and auld lang syne? 'Merry X'mas and a Happy New Year!'\""
      ],
      "metadata": {
        "id": "WAcdNbBi-iO9"
      },
      "execution_count": null,
      "outputs": []
    }
  ]
}